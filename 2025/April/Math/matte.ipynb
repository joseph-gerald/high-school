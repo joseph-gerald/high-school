{
 "cells": [
  {
   "cell_type": "code",
   "execution_count": 1,
   "id": "524b4f10",
   "metadata": {},
   "outputs": [],
   "source": [
    "import csv\n",
    "import json\n",
    "import numpy as np\n",
    "import matplotlib.pyplot as plt"
   ]
  },
  {
   "cell_type": "code",
   "execution_count": null,
   "id": "9f6e15b8",
   "metadata": {},
   "outputs": [],
   "source": [
    "data = {}\n",
    "countries = []\n",
    "\n",
    "with open(\"export_emissions_global_per_capita.csv\", encoding=\"utf-8\", newline=\"\") as f:\n",
    "    reader = csv.reader(f, delimiter=',', quotechar='\"')\n",
    "    total_lines = sum(1 for _ in reader)\n",
    "    \n",
    "    f.seek(0)\n",
    "    \n",
    "    index = -1\n",
    "    \n",
    "    for line in reader:\n",
    "        index += 1\n",
    "        \n",
    "        if index == 0 or (total_lines - index < 4):\n",
    "            continue\n",
    "        \n",
    "        year = None\n",
    "        \n",
    "        for item_index, item in enumerate(line):\n",
    "            if (index == 1):\n",
    "                if (item_index == 0): continue\n",
    "                \n",
    "                countries.append(item.strip())\n",
    "                data[item.strip()] = {}\n",
    "            else:\n",
    "                if (item_index == 0):\n",
    "                    year = item.strip()\n",
    "                else:\n",
    "                    data[countries[item_index - 1]][year] = item.strip()\n"
   ]
  },
  {
   "cell_type": "code",
   "execution_count": 3,
   "id": "8a2787cc",
   "metadata": {},
   "outputs": [
    {
     "data": {
      "text/plain": [
       "'8.368716972'"
      ]
     },
     "execution_count": 3,
     "metadata": {},
     "output_type": "execute_result"
    }
   ],
   "source": [
    "data[\"Norway\"][\"2017\"]"
   ]
  },
  {
   "cell_type": "code",
   "execution_count": 6,
   "id": "7a0434fb",
   "metadata": {},
   "outputs": [],
   "source": [
    "countries_2017_emissions = []\n",
    "\n",
    "for country in countries:\n",
    "    if (data[country][\"2017\"] == \"\"):\n",
    "        continue\n",
    "    \n",
    "    countries_2017_emissions.append((country, float(data[country][\"2017\"])))\n",
    "    \n",
    "countries_2017_emissions.sort(key=lambda x: x[1], reverse=True)"
   ]
  },
  {
   "cell_type": "code",
   "execution_count": 8,
   "id": "272bc60b",
   "metadata": {},
   "outputs": [],
   "source": [
    "with open(\"countries_2017_emissions_per_capita.json\", \"w\", encoding=\"utf-8\") as f:\n",
    "    json.dump(countries_2017_emissions, f, indent=4)"
   ]
  }
 ],
 "metadata": {
  "kernelspec": {
   "display_name": "Python 3",
   "language": "python",
   "name": "python3"
  },
  "language_info": {
   "codemirror_mode": {
    "name": "ipython",
    "version": 3
   },
   "file_extension": ".py",
   "mimetype": "text/x-python",
   "name": "python",
   "nbconvert_exporter": "python",
   "pygments_lexer": "ipython3",
   "version": "3.12.6"
  }
 },
 "nbformat": 4,
 "nbformat_minor": 5
}
