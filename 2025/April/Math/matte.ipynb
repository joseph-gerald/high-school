{
 "cells": [
  {
   "cell_type": "code",
   "execution_count": 25,
   "id": "524b4f10",
   "metadata": {},
   "outputs": [],
   "source": [
    "import csv\n",
    "import json\n",
    "import numpy as np\n",
    "import matplotlib.pyplot as plt"
   ]
  },
  {
   "cell_type": "code",
   "execution_count": null,
   "id": "9f6e15b8",
   "metadata": {},
   "outputs": [],
   "source": [
    "data = {}\n",
    "countries = []\n",
    "\n",
    "# with open(\"export_emissions_global_per_capita.csv\", encoding=\"utf-8\", newline=\"\") as f:\n",
    "with open(\"export_emissions_global.csv\", encoding=\"utf-8\", newline=\"\") as f:\n",
    "    reader = csv.reader(f, delimiter=',', quotechar='\"')\n",
    "    total_lines = len(f.readlines())\n",
    "    \n",
    "    f.seek(0)\n",
    "    \n",
    "    for index, line in enumerate(reader):\n",
    "        if index == 0 or (total_lines - index < 4):\n",
    "            continue\n",
    "        \n",
    "        year = None\n",
    "        \n",
    "        for item_index, item in enumerate(line):\n",
    "            if (index == 1):\n",
    "                if (item_index == 0): continue\n",
    "                \n",
    "                countries.append(item.strip())\n",
    "                data[item.strip()] = {}\n",
    "            else:\n",
    "                if (item_index == 0):\n",
    "                    year = item.strip()\n",
    "                else:\n",
    "                    data[countries[item_index - 1]][year] = item.strip()\n"
   ]
  },
  {
   "cell_type": "code",
   "execution_count": 27,
   "id": "8a2787cc",
   "metadata": {},
   "outputs": [
    {
     "data": {
      "text/plain": [
       "'8.368716972'"
      ]
     },
     "execution_count": 27,
     "metadata": {},
     "output_type": "execute_result"
    }
   ],
   "source": [
    "data[\"Norway\"][\"2017\"]"
   ]
  },
  {
   "cell_type": "code",
   "execution_count": 28,
   "id": "7a0434fb",
   "metadata": {},
   "outputs": [
    {
     "data": {
      "text/plain": [
       "[('Qatar', 36.91753127),\n",
       " ('Curaçao', 28.96620881),\n",
       " ('Trinidad and Tobago', 27.26762419),\n",
       " ('Kuwait', 25.20063497),\n",
       " ('United Arab Emirates', 23.47885424),\n",
       " ('Bahrain', 22.53873811),\n",
       " ('Brunei Darussalam', 21.63588023),\n",
       " ('New Caledonia', 19.63713605),\n",
       " ('Saudi Arabia', 17.94762994),\n",
       " ('Australia', 16.82847008),\n",
       " ('Kazakhstan', 16.02399566),\n",
       " ('United States of America', 15.80442962),\n",
       " ('Canada', 15.58235972),\n",
       " ('Luxembourg', 15.53423458),\n",
       " ('Oman', 14.58483694),\n",
       " ('Estonia', 14.12926578),\n",
       " ('Faeroe Islands', 14.0782401),\n",
       " ('South Korea', 12.70659045),\n",
       " ('Palau', 12.11975108),\n",
       " ('Taiwan', 12.07393662),\n",
       " ('Russian Federation', 11.4547415),\n",
       " ('Saint Pierre and Miquelon', 11.07134464),\n",
       " ('Mongolia', 11.02553916),\n",
       " ('Libya', 10.90894524),\n",
       " ('Turkmenistan', 10.62937817),\n",
       " ('Iceland', 10.5083345),\n",
       " ('Czech Republic', 10.23100176),\n",
       " ('Bermuda', 10.01770051),\n",
       " ('Greenland', 9.723573165),\n",
       " ('Germany', 9.495913397),\n",
       " ('Netherlands', 9.419180276),\n",
       " ('Japan', 9.375188098),\n",
       " ('Turks and Caicos Islands', 8.827928923),\n",
       " ('Poland', 8.739743676),\n",
       " ('Belgium', 8.712907536),\n",
       " ('Singapore', 8.691146324),\n",
       " ('Anguilla', 8.540792541),\n",
       " ('Aruba', 8.444218932),\n",
       " ('Norway', 8.368716972),\n",
       " ('Iran', 8.240923894),\n",
       " ('Ireland', 8.188766882),\n",
       " ('Finland', 8.107455511),\n",
       " ('Austria', 7.911171542),\n",
       " ('South Africa', 7.768118085),\n",
       " ('Malaysia', 7.645064522),\n",
       " ('New Zealand', 7.518479845),\n",
       " ('China', 7.095308511),\n",
       " ('Israel', 7.081872663),\n",
       " ('Greece', 6.999644976),\n",
       " ('Slovenia', 6.965667044),\n",
       " ('Slovakia', 6.649003009),\n",
       " ('Antigua and Barbuda', 6.634840154),\n",
       " ('Bulgaria', 6.616216689),\n",
       " ('Bosnia and Herzegovina', 6.440705262),\n",
       " ('Andorra', 6.351693595),\n",
       " ('Montserrat', 6.237922962),\n",
       " ('Cyprus', 6.210142463),\n",
       " ('Bahamas', 6.207458273),\n",
       " ('Belarus', 6.116878708),\n",
       " ('Serbia', 6.099173731),\n",
       " ('Denmark', 6.0398788),\n",
       " ('British Virgin Islands', 5.972721224),\n",
       " ('Italy', 5.877581693),\n",
       " ('Spain', 5.872806149),\n",
       " ('United Kingdom', 5.863441296),\n",
       " ('Hong Kong', 5.686670502),\n",
       " ('Seychelles', 5.650175325),\n",
       " ('Portugal', 5.351932034),\n",
       " ('France', 5.255377713),\n",
       " ('Turkey', 5.249138913),\n",
       " ('Saint Kitts and Nevis', 5.060583865),\n",
       " ('Hungary', 5.048911828),\n",
       " ('Ukraine', 4.99539862),\n",
       " ('Barbados', 4.972652738),\n",
       " ('Equatorial Guinea', 4.709125425),\n",
       " ('Nauru', 4.704673857),\n",
       " ('Kosovo', 4.632821803),\n",
       " ('Lithuania', 4.586066209),\n",
       " ('Chile', 4.58055624),\n",
       " ('Lebanon', 4.554420083),\n",
       " ('Venezuela', 4.550316713),\n",
       " ('Switzerland', 4.515642853),\n",
       " ('Croatia', 4.464936754),\n",
       " ('Cook Islands', 4.42334004),\n",
       " ('Argentina', 4.242436252),\n",
       " ('Sweden', 4.219287963),\n",
       " ('Bonaire, Saint Eustatius and Saba', 4.210375113),\n",
       " ('Iraq', 4.207446011),\n",
       " ('Suriname', 4.129627833),\n",
       " ('Liechtenstein', 4.111219615),\n",
       " ('Romania', 4.018416707),\n",
       " ('Algeria', 4.015259327),\n",
       " ('Thailand', 3.996541407),\n",
       " ('Niue', 3.920813269),\n",
       " ('Mexico', 3.780603266),\n",
       " ('Latvia', 3.690951075),\n",
       " ('Mauritius', 3.503403383),\n",
       " ('Azerbaijan', 3.445203711),\n",
       " ('Uzbekistan', 3.409878681),\n",
       " ('North Macedonia', 3.386444657),\n",
       " ('Montenegro', 3.325385255),\n",
       " ('Malta', 3.205233818),\n",
       " ('Maldives', 3.202932847),\n",
       " ('Marshall Islands', 3.105940195),\n",
       " ('Guyana', 3.048534429),\n",
       " ('Macao', 3.01796561),\n",
       " ('French Polynesia', 2.951531562),\n",
       " ('Botswana', 2.943576591),\n",
       " ('Laos', 2.81280844),\n",
       " ('Jamaica', 2.77651568),\n",
       " ('Saint Lucia', 2.771346161),\n",
       " ('North Korea', 2.730601328),\n",
       " ('Georgia', 2.696916673),\n",
       " ('Tunisia', 2.647576592),\n",
       " ('Gabon', 2.567312163),\n",
       " ('Egypt', 2.560928111),\n",
       " ('Jordan', 2.52692484),\n",
       " ('Grenada', 2.424061991),\n",
       " ('Vietnam', 2.420566012),\n",
       " ('Panama', 2.396471929),\n",
       " ('Brazil', 2.389710058),\n",
       " ('Ecuador', 2.346189818),\n",
       " ('Bhutan', 2.263658859),\n",
       " ('Dominican Republic', 2.255691708),\n",
       " ('Dominica', 2.185844353),\n",
       " ('Cuba', 2.16704502),\n",
       " ('Wallis and Futuna Islands', 2.148793566),\n",
       " ('Indonesia', 2.105658288),\n",
       " ('Saint Vincent and the Grenadines', 2.048148253),\n",
       " ('Saint Helena', 2.000363967),\n",
       " ('Armenia', 1.942619068),\n",
       " ('Bolivia', 1.938799005),\n",
       " ('Albania', 1.838258916),\n",
       " ('Uruguay', 1.799690258),\n",
       " ('India', 1.791917472),\n",
       " ('Colombia', 1.791261775),\n",
       " ('Peru', 1.735742966),\n",
       " ('Namibia', 1.733491673),\n",
       " ('Morocco', 1.719871713),\n",
       " ('Syria', 1.664124705),\n",
       " ('Belize', 1.642811582),\n",
       " ('Moldova', 1.641405487),\n",
       " ('Costa Rica', 1.607780142),\n",
       " ('Kyrgyzstan', 1.529211056),\n",
       " ('Fiji', 1.423256755),\n",
       " ('Micronesia (Federated States of)', 1.294032419),\n",
       " ('Tonga', 1.286059859),\n",
       " ('Philippines', 1.259588609),\n",
       " ('Paraguay', 1.248150393),\n",
       " ('Samoa', 1.182343592),\n",
       " ('Lesotho', 1.157965684),\n",
       " ('Congo', 1.06405087),\n",
       " ('Sri Lanka', 1.063518802),\n",
       " ('Honduras', 1.06280959),\n",
       " ('Guatemala', 1.04474271),\n",
       " ('Cape Verde', 1.018224493),\n",
       " ('Tuvalu', 1.015145918),\n",
       " ('Pakistan', 1.009155875),\n",
       " ('El Salvador', 0.952613628),\n",
       " ('Mauritania', 0.860838242),\n",
       " ('Swaziland', 0.856026194),\n",
       " ('Nicaragua', 0.842724023),\n",
       " ('Angola', 0.781078174),\n",
       " ('Tajikistan', 0.768358164),\n",
       " ('Cambodia', 0.76355489),\n",
       " ('Papua New Guinea', 0.718227813),\n",
       " ('Senegal', 0.709872473),\n",
       " ('Occupied Palestinian Territory', 0.695242895),\n",
       " ('Sao Tome and Principe', 0.669259167),\n",
       " ('Zimbabwe', 0.666167224),\n",
       " ('Nigeria', 0.613555614),\n",
       " ('Timor-Leste', 0.554738243),\n",
       " ('Kiribati', 0.547947026),\n",
       " ('Bangladesh', 0.534819086),\n",
       " ('Sudan', 0.499259731),\n",
       " ('Vanuatu', 0.492352854),\n",
       " (\"Côte d'Ivoire\", 0.483012406),\n",
       " ('Benin', 0.481228451),\n",
       " ('Myanmar', 0.4519191),\n",
       " ('Solomon Islands', 0.444025642),\n",
       " ('Nepal', 0.440677439),\n",
       " ('Ghana', 0.411541002),\n",
       " ('Djibouti', 0.397737815),\n",
       " ('Zambia', 0.396009863),\n",
       " ('Cameroon', 0.392974578),\n",
       " ('Kenya', 0.361799265),\n",
       " ('Comoros', 0.341541677),\n",
       " ('Yemen', 0.322783327),\n",
       " ('Haiti', 0.2889665),\n",
       " ('Afghanistan', 0.271505948),\n",
       " ('Guinea', 0.264607126),\n",
       " ('Togo', 0.253591237),\n",
       " ('Gambia', 0.24927536),\n",
       " ('Mali', 0.247004936),\n",
       " ('Tanzania', 0.243154819),\n",
       " ('Mozambique', 0.241705814),\n",
       " ('Burkina Faso', 0.233022438),\n",
       " ('Eritrea', 0.163989104),\n",
       " ('Guinea-Bissau', 0.161775611),\n",
       " ('Chad', 0.155390297),\n",
       " ('Madagascar', 0.151932349),\n",
       " ('Sierra Leone', 0.141737647),\n",
       " ('Liberia', 0.139768934),\n",
       " ('Ethiopia', 0.136545101),\n",
       " ('Republic of South Sudan', 0.136476746),\n",
       " ('Uganda', 0.13480421),\n",
       " ('Niger', 0.103496553),\n",
       " ('Rwanda', 0.094445461),\n",
       " ('Malawi', 0.068770679),\n",
       " ('Burundi', 0.045982316),\n",
       " ('Central African Republic', 0.0432642),\n",
       " ('Somalia', 0.042890912),\n",
       " ('Democratic Republic of the Congo', 0.034610663)]"
      ]
     },
     "execution_count": 28,
     "metadata": {},
     "output_type": "execute_result"
    }
   ],
   "source": [
    "countries_2017_emissions = []\n",
    "\n",
    "for country in countries:\n",
    "    if (data[country][\"2017\"] == \"\"):\n",
    "        continue\n",
    "    \n",
    "    countries_2017_emissions.append((country, float(data[country][\"2017\"])))\n",
    "\n",
    "countries_2017_emissions.sort(key=lambda x: x[1], reverse=True)\n",
    "\n",
    "countries_2017_emissions"
   ]
  },
  {
   "cell_type": "code",
   "execution_count": 29,
   "id": "a56b9527",
   "metadata": {},
   "outputs": [
    {
     "name": "stdout",
     "output_type": "stream",
     "text": [
      "Norway index:  38\n"
     ]
    }
   ],
   "source": [
    "for index, item in enumerate(countries_2017_emissions):\n",
    "    if (item[0] == \"Norway\"):\n",
    "        print(\"Norway index: \", index)\n",
    "        break"
   ]
  },
  {
   "cell_type": "code",
   "execution_count": 30,
   "id": "83768213",
   "metadata": {},
   "outputs": [
    {
     "name": "stdout",
     "output_type": "stream",
     "text": [
      "Norway:  8.368716972\n",
      "Mean:  4.879282147882629\n"
     ]
    }
   ],
   "source": [
    "for index, item in enumerate(countries_2017_emissions):\n",
    "    if (item[0] == \"Norway\"):\n",
    "        print(\"Norway: \", countries_2017_emissions[index][1])\n",
    "        break\n",
    "\n",
    "mean = np.mean([x[1] for x in countries_2017_emissions])\n",
    "print(\"Mean: \", mean)"
   ]
  },
  {
   "cell_type": "code",
   "execution_count": 31,
   "id": "272bc60b",
   "metadata": {},
   "outputs": [],
   "source": [
    "with open(\"countries_2017_emissions.json\", \"w\", encoding=\"utf-8\") as f:\n",
    "    json.dump(data, f, indent=4)"
   ]
  },
  {
   "cell_type": "code",
   "execution_count": 32,
   "id": "a2b07d5a",
   "metadata": {},
   "outputs": [
    {
     "name": "stdout",
     "output_type": "stream",
     "text": [
      "Norway 1990-2017 emissions: 252.640546724\n"
     ]
    }
   ],
   "source": [
    "norway_emissions = {}\n",
    "\n",
    "for year in range(1990, 2018):\n",
    "    norway_emissions[year] = float(data[\"Norway\"][str(year)])\n",
    "\n",
    "sum_emissions = sum(norway_emissions.values())\n",
    "print(\"Norway 1990-2017 emissions:\", sum_emissions)"
   ]
  },
  {
   "cell_type": "code",
   "execution_count": 33,
   "id": "21e937cf",
   "metadata": {},
   "outputs": [
    {
     "name": "stdout",
     "output_type": "stream",
     "text": [
      "delta:    0.11647656299999909\n",
      "delta %:  1.4114538261993463\n"
     ]
    }
   ],
   "source": [
    "delta = norway_emissions[2017] - norway_emissions[1990]\n",
    "delta_percentage = delta / norway_emissions[1990] * 100\n",
    "\n",
    "print(\"delta:   \", delta)\n",
    "print(\"delta %: \", delta_percentage)"
   ]
  }
 ],
 "metadata": {
  "kernelspec": {
   "display_name": "Python 3",
   "language": "python",
   "name": "python3"
  },
  "language_info": {
   "codemirror_mode": {
    "name": "ipython",
    "version": 3
   },
   "file_extension": ".py",
   "mimetype": "text/x-python",
   "name": "python",
   "nbconvert_exporter": "python",
   "pygments_lexer": "ipython3",
   "version": "3.12.6"
  }
 },
 "nbformat": 4,
 "nbformat_minor": 5
}
